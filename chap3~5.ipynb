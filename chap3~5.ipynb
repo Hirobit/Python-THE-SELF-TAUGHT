{
 "cells": [
  {
   "cell_type": "markdown",
   "metadata": {},
   "source": [
    "# 16"
   ]
  },
  {
   "cell_type": "code",
   "execution_count": null,
   "metadata": {},
   "outputs": [
    {
     "name": "stdout",
     "output_type": "stream",
     "text": [
      "Hello, Warld!\n",
      "Hello, Warld!\n",
      "Hello, Warld!\n",
      "Hello, Warld!\n",
      "Hello, Warld!\n",
      "Hello, Warld!\n",
      "Hello, Warld!\n",
      "Hello, Warld!\n",
      "Hello, Warld!\n",
      "Hello, Warld!\n",
      "Hello, Warld!\n",
      "Hello, Warld!\n",
      "Hello, Warld!\n",
      "Hello, Warld!\n",
      "Hello, Warld!\n",
      "Hello, Warld!\n",
      "Hello, Warld!\n",
      "Hello, Warld!\n",
      "Hello, Warld!\n",
      "Hello, Warld!\n",
      "Hello, Warld!\n",
      "Hello, Warld!\n",
      "Hello, Warld!\n",
      "Hello, Warld!\n",
      "Hello, Warld!\n",
      "Hello, Warld!\n",
      "Hello, Warld!\n",
      "Hello, Warld!\n",
      "Hello, Warld!\n",
      "Hello, Warld!\n",
      "Hello, Warld!\n",
      "Hello, Warld!\n",
      "Hello, Warld!\n",
      "Hello, Warld!\n",
      "Hello, Warld!\n",
      "Hello, Warld!\n",
      "Hello, Warld!\n",
      "Hello, Warld!\n",
      "Hello, Warld!\n",
      "Hello, Warld!\n",
      "Hello, Warld!\n",
      "Hello, Warld!\n",
      "Hello, Warld!\n",
      "Hello, Warld!\n",
      "Hello, Warld!\n",
      "Hello, Warld!\n",
      "Hello, Warld!\n",
      "Hello, Warld!\n",
      "Hello, Warld!\n",
      "Hello, Warld!\n",
      "Hello, Warld!\n",
      "Hello, Warld!\n",
      "Hello, Warld!\n",
      "Hello, Warld!\n",
      "Hello, Warld!\n",
      "Hello, Warld!\n",
      "Hello, Warld!\n",
      "Hello, Warld!\n",
      "Hello, Warld!\n",
      "Hello, Warld!\n",
      "Hello, Warld!\n",
      "Hello, Warld!\n",
      "Hello, Warld!\n",
      "Hello, Warld!\n",
      "Hello, Warld!\n",
      "Hello, Warld!\n",
      "Hello, Warld!\n",
      "Hello, Warld!\n",
      "Hello, Warld!\n",
      "Hello, Warld!\n",
      "Hello, Warld!\n",
      "Hello, Warld!\n",
      "Hello, Warld!\n",
      "Hello, Warld!\n",
      "Hello, Warld!\n",
      "Hello, Warld!\n",
      "Hello, Warld!\n",
      "Hello, Warld!\n",
      "Hello, Warld!\n",
      "Hello, Warld!\n",
      "Hello, Warld!\n",
      "Hello, Warld!\n",
      "Hello, Warld!\n",
      "Hello, Warld!\n",
      "Hello, Warld!\n",
      "Hello, Warld!\n",
      "Hello, Warld!\n",
      "Hello, Warld!\n",
      "Hello, Warld!\n",
      "Hello, Warld!\n",
      "Hello, Warld!\n",
      "Hello, Warld!\n",
      "Hello, Warld!\n",
      "Hello, Warld!\n",
      "Hello, Warld!\n",
      "Hello, Warld!\n",
      "Hello, Warld!\n",
      "Hello, Warld!\n",
      "Hello, Warld!\n",
      "Hello, Warld!\n"
     ]
    }
   ],
   "source": [
    "for i in range(100):\n",
    "    print(\"Hello, Warld!\")"
   ]
  },
  {
   "cell_type": "markdown",
   "metadata": {},
   "source": [
    "# 24"
   ]
  },
  {
   "cell_type": "code",
   "execution_count": null,
   "metadata": {},
   "outputs": [
    {
     "data": {
      "text/plain": [
       "4"
      ]
     },
     "execution_count": 2,
     "metadata": {},
     "output_type": "execute_result"
    }
   ],
   "source": [
    "2 + 2"
   ]
  },
  {
   "cell_type": "code",
   "execution_count": null,
   "metadata": {},
   "outputs": [
    {
     "data": {
      "text/plain": [
       "0"
      ]
     },
     "execution_count": 3,
     "metadata": {},
     "output_type": "execute_result"
    }
   ],
   "source": [
    "2 - 2"
   ]
  },
  {
   "cell_type": "code",
   "execution_count": null,
   "metadata": {},
   "outputs": [
    {
     "data": {
      "text/plain": [
       "2.0"
      ]
     },
     "execution_count": 4,
     "metadata": {},
     "output_type": "execute_result"
    }
   ],
   "source": [
    "4 / 2"
   ]
  },
  {
   "cell_type": "code",
   "execution_count": null,
   "metadata": {},
   "outputs": [
    {
     "data": {
      "text/plain": [
       "4"
      ]
     },
     "execution_count": 6,
     "metadata": {},
     "output_type": "execute_result"
    }
   ],
   "source": [
    "2 * 2"
   ]
  },
  {
   "cell_type": "code",
   "execution_count": null,
   "metadata": {},
   "outputs": [
    {
     "data": {
      "text/plain": [
       "100"
      ]
     },
     "execution_count": 8,
     "metadata": {},
     "output_type": "execute_result"
    }
   ],
   "source": [
    "b = 100\n",
    "b"
   ]
  },
  {
   "cell_type": "code",
   "execution_count": null,
   "metadata": {},
   "outputs": [
    {
     "data": {
      "text/plain": [
       "200"
      ]
     },
     "execution_count": 1,
     "metadata": {},
     "output_type": "execute_result"
    }
   ],
   "source": [
    "x = 100\n",
    "x\n",
    "\n",
    "x = 200\n",
    "x"
   ]
  },
  {
   "cell_type": "code",
   "execution_count": null,
   "metadata": {},
   "outputs": [
    {
     "data": {
      "text/plain": [
       "20"
      ]
     },
     "execution_count": 4,
     "metadata": {},
     "output_type": "execute_result"
    }
   ],
   "source": [
    "x = 10\n",
    "y = 10\n",
    "z = x + y\n",
    "z"
   ]
  },
  {
   "cell_type": "code",
   "execution_count": null,
   "metadata": {},
   "outputs": [
    {
     "data": {
      "text/plain": [
       "0"
      ]
     },
     "execution_count": 5,
     "metadata": {},
     "output_type": "execute_result"
    }
   ],
   "source": [
    "a = x - y\n",
    "a"
   ]
  },
  {
   "cell_type": "code",
   "execution_count": null,
   "metadata": {},
   "outputs": [
    {
     "data": {
      "text/plain": [
       "11"
      ]
     },
     "execution_count": 6,
     "metadata": {},
     "output_type": "execute_result"
    }
   ],
   "source": [
    "x = 10\n",
    "x = x + 1\n",
    "x"
   ]
  },
  {
   "cell_type": "code",
   "execution_count": null,
   "metadata": {},
   "outputs": [
    {
     "data": {
      "text/plain": [
       "9"
      ]
     },
     "execution_count": 7,
     "metadata": {},
     "output_type": "execute_result"
    }
   ],
   "source": [
    "x = 10\n",
    "x = x - 1\n",
    "x"
   ]
  },
  {
   "cell_type": "markdown",
   "metadata": {},
   "source": [
    "# 27 インクリメント(増加)、デクリメント(減少)"
   ]
  },
  {
   "cell_type": "code",
   "execution_count": null,
   "metadata": {},
   "outputs": [
    {
     "data": {
      "text/plain": [
       "11"
      ]
     },
     "execution_count": 14,
     "metadata": {},
     "output_type": "execute_result"
    }
   ],
   "source": [
    "x = 10\n",
    "x += 1\n",
    "x"
   ]
  },
  {
   "cell_type": "code",
   "execution_count": null,
   "metadata": {},
   "outputs": [
    {
     "data": {
      "text/plain": [
       "9"
      ]
     },
     "execution_count": 15,
     "metadata": {},
     "output_type": "execute_result"
    }
   ],
   "source": [
    "x = 10\n",
    "x -= 1\n",
    "x"
   ]
  },
  {
   "cell_type": "code",
   "execution_count": null,
   "metadata": {},
   "outputs": [
    {
     "data": {
      "text/plain": [
       "1"
      ]
     },
     "execution_count": 13,
     "metadata": {},
     "output_type": "execute_result"
    }
   ],
   "source": [
    "x = 10\n",
    "x = 1\n",
    "x"
   ]
  },
  {
   "cell_type": "code",
   "execution_count": null,
   "metadata": {},
   "outputs": [
    {
     "data": {
      "text/plain": [
       "1"
      ]
     },
     "execution_count": 12,
     "metadata": {},
     "output_type": "execute_result"
    }
   ],
   "source": [
    "x = 10\n",
    "x =+ 1\n",
    "x"
   ]
  },
  {
   "cell_type": "code",
   "execution_count": null,
   "metadata": {},
   "outputs": [
    {
     "data": {
      "text/plain": [
       "-1"
      ]
     },
     "execution_count": 16,
     "metadata": {},
     "output_type": "execute_result"
    }
   ],
   "source": [
    "x = 10\n",
    "x =- 1\n",
    "x"
   ]
  },
  {
   "cell_type": "markdown",
   "metadata": {},
   "source": [
    "## 40"
   ]
  },
  {
   "cell_type": "code",
   "execution_count": null,
   "metadata": {},
   "outputs": [
    {
     "name": "stdout",
     "output_type": "stream",
     "text": [
      "数値は２です\n",
      "数値は偶数です\n"
     ]
    }
   ],
   "source": [
    "x = 2\n",
    "if x == 2:\n",
    "    print(\"数値は２です\")\n",
    "if x % 2 == 0:\n",
    "    print(\"数値は偶数です\")\n",
    "if x % 2 != 0:\n",
    "    print(\"数値は奇数です\")"
   ]
  },
  {
   "cell_type": "code",
   "execution_count": null,
   "metadata": {},
   "outputs": [
    {
     "name": "stdout",
     "output_type": "stream",
     "text": [
      "21\n"
     ]
    }
   ],
   "source": [
    "x = 10\n",
    "y = 11\n",
    "\n",
    "if x == 10:\n",
    "    if y == 11:\n",
    "        print(x + y)"
   ]
  },
  {
   "cell_type": "markdown",
   "metadata": {},
   "source": [
    "# 41 elifの使い方"
   ]
  },
  {
   "cell_type": "code",
   "execution_count": null,
   "metadata": {},
   "outputs": [
    {
     "name": "stdout",
     "output_type": "stream",
     "text": [
      "Hello, Thailand!\n"
     ]
    }
   ],
   "source": [
    "home = \"タイ\"\n",
    "\n",
    "if home == \"日本\":\n",
    "    print(\"Hello,Japan!\")\n",
    "elif home == \"タイ\":\n",
    "    print(\"Hello, Thailand!\")\n",
    "elif home == \"インド\":\n",
    "    print(\"Hello, India\")\n",
    "elif home == \"中国\":\n",
    "    print(\"Hello, China!\")\n",
    "else:\n",
    "    print(\"Hello, World!\")"
   ]
  },
  {
   "cell_type": "code",
   "execution_count": null,
   "metadata": {},
   "outputs": [
    {
     "name": "stdout",
     "output_type": "stream",
     "text": [
      "タイインド\n",
      "['タイ', 'インド']\n"
     ]
    }
   ],
   "source": [
    "#遊び\n",
    "home = [\"タイ\", \"インド\"]\n",
    "\n",
    "if home == \"日本\":\n",
    "    print(\"Hello,Japan!\")\n",
    "if home == \"タイ\":\n",
    "    print(\"Hello, Thailand!\")\n",
    "if home == \"インド\":\n",
    "    print(\"Hello, India\")\n",
    "if home == \"中国\":\n",
    "    print(\"Hello, China!\")\n",
    "\n",
    "if home == [\"タイ\", \"インド\"]:\n",
    "    print(\"タイインド\")\n",
    "\n",
    "else:\n",
    "    print(\"Hello, World!\")\n",
    "\n",
    "print(home)"
   ]
  },
  {
   "cell_type": "code",
   "execution_count": null,
   "metadata": {},
   "outputs": [
    {
     "name": "stdout",
     "output_type": "stream",
     "text": [
      "数値は２です\n"
     ]
    }
   ],
   "source": [
    "#遊び\n",
    "x = 2\n",
    "if x % 2 != 0:\n",
    "    print(\"数値は奇数です\")\n",
    "elif x == 2:\n",
    "    print(\"数値は２です\")\n",
    "elif x % 2 == 0:\n",
    "    print(\"数値は偶数です\")\n"
   ]
  },
  {
   "cell_type": "markdown",
   "metadata": {},
   "source": [
    "# 42"
   ]
  },
  {
   "cell_type": "code",
   "execution_count": null,
   "metadata": {},
   "outputs": [
    {
     "name": "stdout",
     "output_type": "stream",
     "text": [
      "わかりません!\n",
      "xは100!\n",
      "xは偶数!\n"
     ]
    }
   ],
   "source": [
    "x = 100\n",
    "\n",
    "if x == 10:\n",
    "    print(\"10!\")\n",
    "elif x == 20 :\n",
    "    print(\"20!\")\n",
    "else:\n",
    "    print(\"わかりません!\")\n",
    "\n",
    "if x == 100:\n",
    "    print(\"xは100!\")\n",
    "\n",
    "if x % 2 == 0:\n",
    "    print(\"xは偶数!\")"
   ]
  },
  {
   "cell_type": "markdown",
   "metadata": {},
   "source": [
    "## 48 チャレンジ問題！！"
   ]
  },
  {
   "cell_type": "code",
   "execution_count": null,
   "metadata": {},
   "outputs": [
    {
     "name": "stdout",
     "output_type": "stream",
     "text": [
      "プログラミング 英語 人格\n"
     ]
    }
   ],
   "source": [
    "# Q1\n",
    "\n",
    "print(\"プログラミング\", \"英語\", \"人格\")"
   ]
  },
  {
   "cell_type": "code",
   "execution_count": null,
   "metadata": {},
   "outputs": [
    {
     "name": "stdout",
     "output_type": "stream",
     "text": [
      "この値は10以上です。\n"
     ]
    }
   ],
   "source": [
    "# Q2\n",
    "\n",
    "x = 15\n",
    "\n",
    "if x < 10:\n",
    "    print(\"この値は10未満です。\")\n",
    "if x >= 10:\n",
    "    print(\"この値は10以上です。\")"
   ]
  },
  {
   "cell_type": "code",
   "execution_count": null,
   "metadata": {},
   "outputs": [
    {
     "name": "stdout",
     "output_type": "stream",
     "text": [
      "この値は10以上です。\n"
     ]
    }
   ],
   "source": [
    "# Q2 else使いのウィズ\n",
    "\n",
    "x = 10\n",
    "\n",
    "if x < 10:\n",
    "    print(\"この値は10未満です。\")\n",
    "else:\n",
    "    print(\"この値は10以上です。\")"
   ]
  },
  {
   "cell_type": "code",
   "execution_count": null,
   "metadata": {},
   "outputs": [
    {
     "name": "stdout",
     "output_type": "stream",
     "text": [
      "この値は10以下です。\n",
      "この値は25より大きです\n"
     ]
    }
   ],
   "source": [
    "# Q3\n",
    "# 初回のミス解答\n",
    "x = 10\n",
    "\n",
    "if x <= 10:\n",
    "    print(\"この値は10以下です。\")\n",
    "if x > 10 and x <= 25:\n",
    "    print(\"この値は10より大きく、25以下です\")\n",
    "else:\n",
    "    print(\"この値は25より大きです\")"
   ]
  },
  {
   "cell_type": "code",
   "execution_count": null,
   "metadata": {},
   "outputs": [
    {
     "name": "stdout",
     "output_type": "stream",
     "text": [
      "この値は25よりおおきです。\n"
     ]
    }
   ],
   "source": [
    "# Q3 ifとelseのみで作ったコード\n",
    "x = 100\n",
    "\n",
    "if x <= 10:\n",
    "    print(\"この値は10以下です。\")\n",
    "else:\n",
    "    if x > 10 and x <= 25:\n",
    "        print(\"この値は10より大きく、25以下です\")\n",
    "    else:\n",
    "        print(\"この値は25よりおおきです。\")\n"
   ]
  },
  {
   "cell_type": "code",
   "execution_count": null,
   "metadata": {},
   "outputs": [
    {
     "name": "stdout",
     "output_type": "stream",
     "text": [
      "25以上ですね。\n"
     ]
    }
   ],
   "source": [
    "# Q3 if,elif,else全部のせ、これが読みやすく一般的な書き方\n",
    "\n",
    "x = 111\n",
    "\n",
    "if x <= 10:\n",
    "    print(\"この値は１０以下だ。\")\n",
    "elif x > 10 and x <=25:\n",
    "    print(\"この値は１０より大きく、２５以下だ。\")\n",
    "else:\n",
    "    print(\"25以上ですね。\")"
   ]
  },
  {
   "cell_type": "code",
   "execution_count": null,
   "metadata": {},
   "outputs": [
    {
     "name": "stdout",
     "output_type": "stream",
     "text": [
      "x is greater than 10, but less than or equal to 25.\n"
     ]
    }
   ],
   "source": [
    "# Q3の答え\n",
    "\n",
    "x = 11\n",
    "\n",
    "if x <= 10:\n",
    "    print(\"x is less than or equal to 10.\")\n",
    "elif x <= 25:\n",
    "    print(\"x is greater than 10, but less than or equal to 25.\")\n",
    "else:\n",
    "    print(\"x is greater than 25.\")"
   ]
  },
  {
   "cell_type": "code",
   "execution_count": null,
   "metadata": {},
   "outputs": [
    {
     "data": {
      "text/plain": [
       "1"
      ]
     },
     "execution_count": 73,
     "metadata": {},
     "output_type": "execute_result"
    }
   ],
   "source": [
    "# Q4\n",
    "\n",
    "10 % 3"
   ]
  },
  {
   "cell_type": "code",
   "execution_count": null,
   "metadata": {},
   "outputs": [
    {
     "data": {
      "text/plain": [
       "3"
      ]
     },
     "execution_count": 74,
     "metadata": {},
     "output_type": "execute_result"
    }
   ],
   "source": [
    "# Q5\n",
    "\n",
    "10 // 3"
   ]
  },
  {
   "cell_type": "code",
   "execution_count": null,
   "metadata": {},
   "outputs": [
    {
     "name": "stdout",
     "output_type": "stream",
     "text": [
      "your, 壮年\n"
     ]
    }
   ],
   "source": [
    "# Q6\n",
    "\n",
    "age = 26\n",
    "\n",
    "if age <= 4:\n",
    "    print(\"your, 幼年！\")\n",
    "elif age >= 5 and age <= 14:\n",
    "    print(\"your, 少年\")\n",
    "elif age >= 15 and age <= 24:\n",
    "    print(\"your, 青年\")\n",
    "elif age >=25 and age <= 44:\n",
    "    print(\"your, 壮年\")\n",
    "elif age >=45 and age <= 64:\n",
    "    print(\"お前は中年\")\n",
    "else:\n",
    "    print(\"あなたは高年です。。。\")"
   ]
  },
  {
   "cell_type": "code",
   "execution_count": null,
   "metadata": {},
   "outputs": [
    {
     "name": "stdout",
     "output_type": "stream",
     "text": [
      "You have a long time until you can retire!まだリタイアまで時間がある\n"
     ]
    }
   ],
   "source": [
    "# Q6 先生の答え\n",
    "age = 100\n",
    "retirement = age - 65\n",
    "\n",
    "if retirement < 10:\n",
    "    print(\"You get to retire soon.もうすぐ引退だ\")\n",
    "else:\n",
    "    print(\"You have a long time until you can retire!まだリタイアまで時間がある\")"
   ]
  },
  {
   "cell_type": "markdown",
   "metadata": {},
   "source": [
    "## 57"
   ]
  },
  {
   "cell_type": "code",
   "execution_count": 97,
   "metadata": {},
   "outputs": [
    {
     "name": "stdout",
     "output_type": "stream",
     "text": [
      "Wow, you are old!\n"
     ]
    }
   ],
   "source": [
    "age = input(\"Entet your age:\")\n",
    "\n",
    "int_age = int(age)\n",
    "\n",
    "if int_age < 21:\n",
    "    print(\"you are yongu!\")\n",
    "else:\n",
    "    print(\"Wow, you are old!\")"
   ]
  },
  {
   "cell_type": "code",
   "execution_count": 98,
   "metadata": {},
   "outputs": [
    {
     "ename": "TypeError",
     "evalue": "'<' not supported between instances of 'str' and 'int'",
     "output_type": "error",
     "traceback": [
      "\u001b[0;31m---------------------------------------------------------------------------\u001b[0m",
      "\u001b[0;31mTypeError\u001b[0m                                 Traceback (most recent call last)",
      "\u001b[1;32m/Users/mahiro/Desktop/THE SELF TAUGET Programmer/chap3.ipynb セル 43\u001b[0m line \u001b[0;36m7\n\u001b[1;32m      <a href='vscode-notebook-cell:/Users/mahiro/Desktop/THE%20SELF%20TAUGET%20Programmer/chap3.ipynb#Y101sZmlsZQ%3D%3D?line=1'>2</a>\u001b[0m age \u001b[39m=\u001b[39m \u001b[39minput\u001b[39m(\u001b[39m\"\u001b[39m\u001b[39mEntet your age:\u001b[39m\u001b[39m\"\u001b[39m)\n\u001b[1;32m      <a href='vscode-notebook-cell:/Users/mahiro/Desktop/THE%20SELF%20TAUGET%20Programmer/chap3.ipynb#Y101sZmlsZQ%3D%3D?line=3'>4</a>\u001b[0m \u001b[39m#int_age = int(age)\u001b[39;00m\n\u001b[1;32m      <a href='vscode-notebook-cell:/Users/mahiro/Desktop/THE%20SELF%20TAUGET%20Programmer/chap3.ipynb#Y101sZmlsZQ%3D%3D?line=4'>5</a>\u001b[0m \n\u001b[1;32m      <a href='vscode-notebook-cell:/Users/mahiro/Desktop/THE%20SELF%20TAUGET%20Programmer/chap3.ipynb#Y101sZmlsZQ%3D%3D?line=5'>6</a>\u001b[0m \u001b[39m#if int_age < 21:\u001b[39;00m\n\u001b[0;32m----> <a href='vscode-notebook-cell:/Users/mahiro/Desktop/THE%20SELF%20TAUGET%20Programmer/chap3.ipynb#Y101sZmlsZQ%3D%3D?line=6'>7</a>\u001b[0m \u001b[39mif\u001b[39;00m age \u001b[39m<\u001b[39m \u001b[39m21\u001b[39m:\n\u001b[1;32m      <a href='vscode-notebook-cell:/Users/mahiro/Desktop/THE%20SELF%20TAUGET%20Programmer/chap3.ipynb#Y101sZmlsZQ%3D%3D?line=7'>8</a>\u001b[0m     \u001b[39mprint\u001b[39m(\u001b[39m\"\u001b[39m\u001b[39myou are yongu!\u001b[39m\u001b[39m\"\u001b[39m)\n\u001b[1;32m      <a href='vscode-notebook-cell:/Users/mahiro/Desktop/THE%20SELF%20TAUGET%20Programmer/chap3.ipynb#Y101sZmlsZQ%3D%3D?line=8'>9</a>\u001b[0m \u001b[39melse\u001b[39;00m:\n",
      "\u001b[0;31mTypeError\u001b[0m: '<' not supported between instances of 'str' and 'int'"
     ]
    }
   ],
   "source": [
    "# 遊び inputで入力されたデータはstr型なのでそのまま比較演算子に突っ込めるのか。\n",
    "age = input(\"Entet your age:\")\n",
    "\n",
    "#int_age = int(age)\n",
    "\n",
    "#if int_age < 21:\n",
    "if age < 21:\n",
    "    print(\"you are yongu!\")\n",
    "else:\n",
    "    print(\"Wow, you are old!\")"
   ]
  },
  {
   "cell_type": "code",
   "execution_count": 105,
   "metadata": {},
   "outputs": [
    {
     "name": "stdout",
     "output_type": "stream",
     "text": [
      "10\n"
     ]
    },
    {
     "data": {
      "text/plain": [
       "str"
      ]
     },
     "execution_count": 105,
     "metadata": {},
     "output_type": "execute_result"
    }
   ],
   "source": [
    "## str型では比較演算子は使えない、コメントアウトを外すとエラーになる\n",
    "\n",
    "x = 10\n",
    "x = str(x)\n",
    "\n",
    "#if x < 5:\n",
    "#    print(\"5より大きい\")\n",
    "#else:\n",
    "#    print(\"5以下\")\n",
    "\n",
    "print(x)\n",
    "type(x)"
   ]
  },
  {
   "cell_type": "markdown",
   "metadata": {},
   "source": [
    "# 60 必須引数とオプション引数の各順番を逆にしたらエラーはでるのか"
   ]
  },
  {
   "cell_type": "code",
   "execution_count": 108,
   "metadata": {},
   "outputs": [
    {
     "name": "stdout",
     "output_type": "stream",
     "text": [
      "12\n"
     ]
    }
   ],
   "source": [
    "#まずは正解というか本通りのコード\n",
    "\n",
    "def add_it(x, y=10):\n",
    "    return x + y\n",
    "\n",
    "result = add_it(2)\n",
    "print(result)"
   ]
  },
  {
   "cell_type": "code",
   "execution_count": 110,
   "metadata": {},
   "outputs": [
    {
     "ename": "SyntaxError",
     "evalue": "non-default argument follows default argument (2135808877.py, line 3)",
     "output_type": "error",
     "traceback": [
      "\u001b[0;36m  Cell \u001b[0;32mIn[110], line 3\u001b[0;36m\u001b[0m\n\u001b[0;31m    def add_it(y=10 , x):\u001b[0m\n\u001b[0m                      ^\u001b[0m\n\u001b[0;31mSyntaxError\u001b[0m\u001b[0;31m:\u001b[0m non-default argument follows default argument\n"
     ]
    }
   ],
   "source": [
    "# 逆Ver　　　シンタックスエラー　つまり文法エラーが出る。\n",
    "\n",
    "def add_it(y=10 , x):\n",
    "    return x + y\n",
    "\n",
    "result = add_it(2)\n",
    "print(result)"
   ]
  },
  {
   "cell_type": "markdown",
   "metadata": {},
   "source": [
    "## 63 例外処理\n",
    "ユーザーから２つの数値を入力してもらい、１つ目の数字を２つ目の数字で割った結果を出力するというプログラムを書くとする"
   ]
  },
  {
   "cell_type": "code",
   "execution_count": 113,
   "metadata": {},
   "outputs": [
    {
     "name": "stdout",
     "output_type": "stream",
     "text": [
      "7.5\n"
     ]
    }
   ],
   "source": [
    "a = input(\"数値を入力してください。\")\n",
    "b = input(\"別の数値を入力してください。\")\n",
    "a = int(a)\n",
    "b = int(b)\n",
    "\n",
    "print(a / b)"
   ]
  },
  {
   "cell_type": "markdown",
   "metadata": {},
   "source": [
    "上記のこのコードは一見期待通りに動作すると思われるが、ユーザーが２つ目の数値を０と入力すると問題が起きる"
   ]
  },
  {
   "cell_type": "markdown",
   "metadata": {},
   "source": [
    "このような時に例外処理を行う。使うキーワードは tryとexceptのセットを使う！！\n",
    "起こる可能性があるエラーを指定して、そのエラーが発生する代わりに、テキストメッセージを表示する。"
   ]
  },
  {
   "cell_type": "code",
   "execution_count": 116,
   "metadata": {},
   "outputs": [
    {
     "name": "stdout",
     "output_type": "stream",
     "text": [
      "2つ目の値に0を入れないで\n"
     ]
    }
   ],
   "source": [
    "a = input(\"数値を入力してください。\")\n",
    "b = input(\"別の数値を入力してください。\")\n",
    "a = int(a)\n",
    "b = int(b)\n",
    "\n",
    "try:\n",
    "    print(a / b)\n",
    "except ZeroDivisionError:\n",
    "    print(\"2つ目の値に0を入れないで\")"
   ]
  },
  {
   "cell_type": "markdown",
   "metadata": {},
   "source": [
    "上記のコードは２つ目の数字に０を入力すると、ZeroDivisionErrorとなり、print(\"2つ目の値に0を入れないで\")が実行される。"
   ]
  },
  {
   "cell_type": "markdown",
   "metadata": {},
   "source": [
    "だがもしユーザーが整数に変換できない文字列を入力した場合エラーが出てしまう。下記エラー　：ValueError"
   ]
  },
  {
   "cell_type": "code",
   "execution_count": 117,
   "metadata": {},
   "outputs": [
    {
     "ename": "ValueError",
     "evalue": "invalid literal for int() with base 10: 'aaa'",
     "output_type": "error",
     "traceback": [
      "\u001b[0;31m---------------------------------------------------------------------------\u001b[0m",
      "\u001b[0;31mValueError\u001b[0m                                Traceback (most recent call last)",
      "\u001b[1;32m/Users/mahiro/Desktop/THE SELF TAUGET Programmer/chap3.ipynb セル 55\u001b[0m line \u001b[0;36m4\n\u001b[1;32m      <a href='vscode-notebook-cell:/Users/mahiro/Desktop/THE%20SELF%20TAUGET%20Programmer/chap3.ipynb#Y115sZmlsZQ%3D%3D?line=1'>2</a>\u001b[0m b \u001b[39m=\u001b[39m \u001b[39minput\u001b[39m(\u001b[39m\"\u001b[39m\u001b[39m別の数値を入力してください。\u001b[39m\u001b[39m\"\u001b[39m)\n\u001b[1;32m      <a href='vscode-notebook-cell:/Users/mahiro/Desktop/THE%20SELF%20TAUGET%20Programmer/chap3.ipynb#Y115sZmlsZQ%3D%3D?line=2'>3</a>\u001b[0m a \u001b[39m=\u001b[39m \u001b[39mint\u001b[39m(a)\n\u001b[0;32m----> <a href='vscode-notebook-cell:/Users/mahiro/Desktop/THE%20SELF%20TAUGET%20Programmer/chap3.ipynb#Y115sZmlsZQ%3D%3D?line=3'>4</a>\u001b[0m b \u001b[39m=\u001b[39m \u001b[39mint\u001b[39m(b)\n\u001b[1;32m      <a href='vscode-notebook-cell:/Users/mahiro/Desktop/THE%20SELF%20TAUGET%20Programmer/chap3.ipynb#Y115sZmlsZQ%3D%3D?line=5'>6</a>\u001b[0m \u001b[39mtry\u001b[39;00m:\n\u001b[1;32m      <a href='vscode-notebook-cell:/Users/mahiro/Desktop/THE%20SELF%20TAUGET%20Programmer/chap3.ipynb#Y115sZmlsZQ%3D%3D?line=6'>7</a>\u001b[0m     \u001b[39mprint\u001b[39m(a \u001b[39m/\u001b[39m b)\n",
      "\u001b[0;31mValueError\u001b[0m: invalid literal for int() with base 10: 'aaa'"
     ]
    }
   ],
   "source": [
    "a = input(\"数値を入力してください。\")\n",
    "b = input(\"別の数値を入力してください。\")\n",
    "a = int(a)\n",
    "b = int(b)\n",
    "\n",
    "try:\n",
    "    print(a / b)\n",
    "except ZeroDivisionError:\n",
    "    print(\"2つ目の値に0を入れないで\")"
   ]
  },
  {
   "cell_type": "markdown",
   "metadata": {},
   "source": [
    "このエラーを回避するにはユーザーからの入力をtry節内に移動して、except文の回避するエラー内容を追加すればいい"
   ]
  },
  {
   "cell_type": "markdown",
   "metadata": {},
   "source": [
    "なぜtry節内に移動させるかというと、ValueError　が発生するのは　int()の中にユーザーが入力して文字列が入った瞬間だからだ、\n",
    "つまり　input() のところは入れなくても問題ないと推測する"
   ]
  },
  {
   "cell_type": "code",
   "execution_count": 119,
   "metadata": {},
   "outputs": [
    {
     "name": "stdout",
     "output_type": "stream",
     "text": [
      "無効な入力です\n"
     ]
    }
   ],
   "source": [
    "try:\n",
    "    a = input(\"数値を入力してください。\")\n",
    "    b = input(\"別の数値を入力してください。\")\n",
    "    a = int(a)\n",
    "    b = int(b)\n",
    "    print(a / b)\n",
    "except (ZeroDivisionError, ValueError):\n",
    "    print(\"無効な入力です\")"
   ]
  },
  {
   "cell_type": "code",
   "execution_count": 123,
   "metadata": {},
   "outputs": [
    {
     "name": "stdout",
     "output_type": "stream",
     "text": [
      "無効な入力です\n"
     ]
    }
   ],
   "source": [
    "# テスト\n",
    "\n",
    "\n",
    "a = input(\"数値を入力してください。\")\n",
    "b = input(\"別の数値を入力してください。\")\n",
    "try:\n",
    "    a = int(a)\n",
    "    b = int(b)\n",
    "    print(a / b)\n",
    "except (ZeroDivisionError, ValueError):\n",
    "    print(\"無効な入力です\")\n",
    "\n",
    "\n",
    "#　推測　当たり"
   ]
  },
  {
   "cell_type": "markdown",
   "metadata": {},
   "source": [
    "## 69 チャレンジ"
   ]
  },
  {
   "cell_type": "code",
   "execution_count": 171,
   "metadata": {},
   "outputs": [
    {
     "name": "stdout",
     "output_type": "stream",
     "text": [
      "25\n"
     ]
    }
   ],
   "source": [
    "# Q1\n",
    "\n",
    "\n",
    "def Q1():\n",
    "    '''\n",
    "    Returns input(a) ** 2\n",
    "    :param a: int. \n",
    "    :return : int. input(a) ** 2\n",
    "\n",
    "    '''\n",
    "    a = input(\"入力された数字の2乗の値を返すよ。\")\n",
    "    a = int(a)\n",
    "    print(a ** 2)\n",
    "\n",
    "Q1()"
   ]
  },
  {
   "cell_type": "code",
   "execution_count": 182,
   "metadata": {},
   "outputs": [
    {
     "name": "stdout",
     "output_type": "stream",
     "text": [
      "4\n"
     ]
    }
   ],
   "source": [
    "#Q1 answer\n",
    "def squared(x):\n",
    "    \"\"\" Takes an int and returns it multiplied by 2.\n",
    "    :param x: int.\n",
    "    :return: x multiplied by 2.\n",
    "    \"\"\"\n",
    "    return x ** 2\n",
    "print(squared(2))"
   ]
  },
  {
   "cell_type": "code",
   "execution_count": 166,
   "metadata": {},
   "outputs": [
    {
     "name": "stdout",
     "output_type": "stream",
     "text": [
      "as\n"
     ]
    }
   ],
   "source": [
    "# Q2\n",
    "\n",
    "def Q2():\n",
    "    \"\"\"\n",
    "    Retures input(x)\n",
    "    :param x : str.\n",
    "    :return : str. input(x)\n",
    "    \n",
    "    \"\"\"\n",
    "    x = input(\"文字くれ\")\n",
    "    print(x)\n",
    "\n",
    "Q2()"
   ]
  },
  {
   "cell_type": "code",
   "execution_count": 179,
   "metadata": {},
   "outputs": [
    {
     "name": "stdout",
     "output_type": "stream",
     "text": [
      "Testing: 1, 2, 3.\n"
     ]
    }
   ],
   "source": [
    "# Q2 answer\n",
    "def print_string(string):\n",
    "    \"\"\" Prints the string passed in.\n",
    "    :param string: str.\n",
    "    \"\"\"\n",
    "    print(string)\n",
    "\n",
    "print_string(\"Testing: 1, 2, 3.\")\n"
   ]
  },
  {
   "cell_type": "code",
   "execution_count": 184,
   "metadata": {},
   "outputs": [
    {
     "name": "stdout",
     "output_type": "stream",
     "text": [
      "2500025\n"
     ]
    }
   ],
   "source": [
    "# Q3\n",
    "\n",
    "def Q3(a, b, c, d=100, e=1000):\n",
    "    \"\"\"\n",
    "    Returns a + b + c * d * e\n",
    "    :param a: int. or float.\n",
    "    :param b: int. or float.\n",
    "    :param c: int. or float.\n",
    "    :param d: int. or float.\n",
    "    :param e: int. or float.\n",
    "    :return: int. sum of a and b and c and d and e\n",
    "    \"\"\"\n",
    "    print(a + b + c * d * e)\n",
    "\n",
    "Q3(10, 15, 25 )"
   ]
  },
  {
   "cell_type": "code",
   "execution_count": 183,
   "metadata": {},
   "outputs": [
    {
     "name": "stdout",
     "output_type": "stream",
     "text": [
      "2500025\n"
     ]
    }
   ],
   "source": [
    "# Q3 answer\n",
    "def add_mult(a,b,c,x=100,z=1000):\n",
    "    \"\"\" Returns the result of two optional params\n",
    "    multiplied by the addition of 3 required params.\n",
    "    :param a: int.\n",
    "    :param b: int.\n",
    "    :param c: int.\n",
    "    :param x: int.\n",
    "    :param z: int.\n",
    "    :return: int.\n",
    "    \"\"\"\n",
    "    return a + b + c * x * z\n",
    "result = add_mult(10, 15, 25)\n",
    "print(result)"
   ]
  },
  {
   "cell_type": "code",
   "execution_count": 177,
   "metadata": {},
   "outputs": [
    {
     "data": {
      "text/plain": [
       "20"
      ]
     },
     "execution_count": 177,
     "metadata": {},
     "output_type": "execute_result"
    }
   ],
   "source": [
    "# Q4\n",
    "\n",
    "def waruni(a):\n",
    "    \"\"\"\n",
    "    Returns a / 2\n",
    "    :param a: int\n",
    "    :return: int.  quotient of a and 2\n",
    "    \"\"\"\n",
    "    a = int(a)\n",
    "    return a / 2\n",
    "\n",
    "def kakeyon(b):\n",
    "    \"\"\"\n",
    "    Returns b * 4\n",
    "    :param b: int\n",
    "    :return: int. product of b and 4\n",
    "    \"\"\"\n",
    "    b = int(b)\n",
    "    return b * 4\n",
    "\n",
    "result = waruni(10)\n",
    "kakeyon(result)"
   ]
  },
  {
   "cell_type": "code",
   "execution_count": null,
   "metadata": {},
   "outputs": [],
   "source": [
    "# Q4 answer\n",
    "def divide(x):\n",
    "    return x / 2\n",
    "\n",
    "\n",
    "def multiply(x):\n",
    "    return x * 4\n",
    "\n",
    "y = divide(4)\n",
    "z = multiply(y)\n",
    "\n",
    "print(z)"
   ]
  },
  {
   "cell_type": "code",
   "execution_count": 186,
   "metadata": {},
   "outputs": [
    {
     "name": "stdout",
     "output_type": "stream",
     "text": [
      "55.0\n"
     ]
    }
   ],
   "source": [
    "# Q5\n",
    "\n",
    "def refo(f):\n",
    "    \"\"\"\n",
    "    Returns float(f)\n",
    "    :param f: str.\n",
    "    :return: float. float converted of f\n",
    "    \"\"\"\n",
    "    f = float(f)\n",
    "    print(f) \n",
    "\n",
    "try:\n",
    "    f = input(\"文字\")\n",
    "    refo(f)\n",
    "except (TypeError, NameError, SyntaxError, ValueError):\n",
    "    print(\"数字を入れてね\")"
   ]
  },
  {
   "cell_type": "code",
   "execution_count": 185,
   "metadata": {},
   "outputs": [
    {
     "name": "stdout",
     "output_type": "stream",
     "text": [
      "55.0\n"
     ]
    }
   ],
   "source": [
    "# Q5 answer\n",
    "def convert(string):\n",
    "    \"\"\" Converts passed in str to int.\n",
    "    :param string: str.\n",
    "    :return: string converted to int.\n",
    "    \"\"\"\n",
    "    try:\n",
    "        return float(string)\n",
    "    except ValueError:\n",
    "        print(\"Could not convert the string to a float.\")\n",
    "\n",
    "c = convert(\"55.0\")\n",
    "print(c)"
   ]
  },
  {
   "cell_type": "markdown",
   "metadata": {},
   "source": [
    "# 80 辞書型"
   ]
  },
  {
   "cell_type": "code",
   "execution_count": 5,
   "metadata": {},
   "outputs": [
    {
     "data": {
      "text/plain": [
       "{'apple': 'red', 'banana': 'yellow'}"
      ]
     },
     "execution_count": 5,
     "metadata": {},
     "output_type": "execute_result"
    }
   ],
   "source": [
    "fruits = {\"apple\":\"red\",\n",
    "          \"banana\":\"yellow\"}\n",
    "\n",
    "fruits"
   ]
  },
  {
   "cell_type": "code",
   "execution_count": 3,
   "metadata": {},
   "outputs": [
    {
     "data": {
      "text/plain": [
       "'yellow'"
      ]
     },
     "execution_count": 3,
     "metadata": {},
     "output_type": "execute_result"
    }
   ],
   "source": [
    "fruits[\"banana\"]"
   ]
  },
  {
   "cell_type": "code",
   "execution_count": 6,
   "metadata": {},
   "outputs": [
    {
     "ename": "KeyError",
     "evalue": "'red'",
     "output_type": "error",
     "traceback": [
      "\u001b[0;31m---------------------------------------------------------------------------\u001b[0m",
      "\u001b[0;31mKeyError\u001b[0m                                  Traceback (most recent call last)",
      "\u001b[1;32m/Users/mahiro/Desktop/THE SELF TAUGET Programmer/chap3.ipynb セル 74\u001b[0m line \u001b[0;36m1\n\u001b[0;32m----> <a href='vscode-notebook-cell:/Users/mahiro/Desktop/THE%20SELF%20TAUGET%20Programmer/chap3.ipynb#Y133sZmlsZQ%3D%3D?line=0'>1</a>\u001b[0m fruits[\u001b[39m\"\u001b[39m\u001b[39mred\u001b[39m\u001b[39m\"\u001b[39m]\n",
      "\u001b[0;31mKeyError\u001b[0m: 'red'"
     ]
    }
   ],
   "source": [
    "fruits[\"red\"]"
   ]
  },
  {
   "cell_type": "markdown",
   "metadata": {},
   "source": [
    "# 86"
   ]
  },
  {
   "cell_type": "code",
   "execution_count": 16,
   "metadata": {},
   "outputs": [
    {
     "name": "stdout",
     "output_type": "stream",
     "text": [
      "アメリカ\n"
     ]
    }
   ],
   "source": [
    "ny = {\n",
    "    \"座標\": (100, 100),\n",
    "\n",
    "    \"セレブ\":[\n",
    "        \"aさん\",\n",
    "        \"bさん\",\n",
    "        \"cさん\"],\n",
    "\n",
    "    \"事実\":{\n",
    "        \"州\":\"ニューヨーク\",\n",
    "        \"国\":\"アメリカ\" }\n",
    "}\n",
    "\n",
    "print(ny[\"事実\"][\"国\"])"
   ]
  },
  {
   "cell_type": "markdown",
   "metadata": {},
   "source": [
    "# 87 チャレンジ"
   ]
  },
  {
   "cell_type": "code",
   "execution_count": 1,
   "metadata": {},
   "outputs": [],
   "source": [
    "# Q1\n",
    "\n",
    "like_musicians = [\"ヨアソビ\",\n",
    "                  \"Reol\",\n",
    "                  \"マネスキン\"]"
   ]
  },
  {
   "cell_type": "code",
   "execution_count": null,
   "metadata": {},
   "outputs": [],
   "source": [
    "# Q1 answer\n",
    "\n",
    "fav_musicans = [\"Jay Z\", \"Adventure Club\", \"John Lennon\"]"
   ]
  },
  {
   "cell_type": "code",
   "execution_count": 4,
   "metadata": {},
   "outputs": [],
   "source": [
    "# Q2\n",
    "\n",
    "travel = [(49.3023, -123.10749),\n",
    "          (43.0352, 141.2049)]"
   ]
  },
  {
   "cell_type": "code",
   "execution_count": null,
   "metadata": {},
   "outputs": [],
   "source": [
    "# Q2 answer\n",
    "\n",
    "locations = [(40.7128, 74.0059), (31.0461, 34.8516), (8.3405, 115.0920)]"
   ]
  },
  {
   "cell_type": "code",
   "execution_count": 5,
   "metadata": {},
   "outputs": [],
   "source": [
    "# Q3\n",
    "\n",
    "me = {\n",
    "    \"身長\":\"175\",\n",
    "    \"好きな色\":\"黒\",\n",
    "    \"好きな作家\":\"コビー\"\n",
    "}"
   ]
  },
  {
   "cell_type": "code",
   "execution_count": null,
   "metadata": {},
   "outputs": [],
   "source": [
    "# Q3 answer\n",
    "\n",
    "me = {\n",
    "    \"height\": \"6\",\n",
    "    \"fav_color\": \"red\",\n",
    "    \"fav_author\": \"Orwell\"\n",
    "}"
   ]
  },
  {
   "cell_type": "code",
   "execution_count": 7,
   "metadata": {},
   "outputs": [
    {
     "name": "stdout",
     "output_type": "stream",
     "text": [
      "黒\n"
     ]
    }
   ],
   "source": [
    "# Q4\n",
    "\n",
    "x = input(\"身長、好きな色、好きな作家、のどれかを入力してね。\")\n",
    "\n",
    "print(me[x])"
   ]
  },
  {
   "cell_type": "code",
   "execution_count": null,
   "metadata": {},
   "outputs": [],
   "source": [
    "# Q4 answer\n",
    "\n",
    "me = {\n",
    "    \"height\": \"6\",\n",
    "    \"fav_color\": \"red\",\n",
    "    \"fav_author\": \"Orwell\"\n",
    "}\n",
    "\n",
    "answer = input(\"Type height, fav_color or fav_author\")\n",
    "if answer in me:\n",
    "    result = me[answer]\n",
    "    print(result)"
   ]
  },
  {
   "cell_type": "code",
   "execution_count": 8,
   "metadata": {},
   "outputs": [],
   "source": [
    "# Q5\n",
    "\n",
    "music_list = {\n",
    "    \"ヨアソビ\":\"アイドル\",\n",
    "    \"Reol\":\"Boy\",\n",
    "    \"マネスキン\":\"GOSSIP\"\n",
    "}"
   ]
  },
  {
   "cell_type": "code",
   "execution_count": null,
   "metadata": {},
   "outputs": [],
   "source": [
    "# Q5 answer\n",
    "\n",
    "songs = {\"John Lennon\": \"Stand by Me\",\n",
    "         \"Kanye West\": \"Homecoming\",\n",
    "         \"Swedish House Mafia\": \"Don't You Worry Child\"\n",
    "}"
   ]
  },
  {
   "cell_type": "markdown",
   "metadata": {},
   "source": [
    "#　Q6\n",
    "setとは順序がなく、重複する要素を持たないミュータブルのコンテナです。\n",
    "{}を使用して作成され、一意性(重複する要素を持たない)を保ちたい時に使われる.集合演算の時にも使われる。\n",
    "要素の追加は、add が使用される。　変数名.add(\"追加したいデータ\")\n",
    "要素の削除は、removeが使用される。 変数名.remove(\"削除したいデータ\")\n",
    "要素の確認は、inが使用される。　print(\"確認指定データ\" in サーチしたい変数名)"
   ]
  },
  {
   "cell_type": "markdown",
   "metadata": {},
   "source": []
  }
 ],
 "metadata": {
  "kernelspec": {
   "display_name": "base",
   "language": "python",
   "name": "python3"
  },
  "language_info": {
   "codemirror_mode": {
    "name": "ipython",
    "version": 3
   },
   "file_extension": ".py",
   "mimetype": "text/x-python",
   "name": "python",
   "nbconvert_exporter": "python",
   "pygments_lexer": "ipython3",
   "version": "3.11.3"
  }
 },
 "nbformat": 4,
 "nbformat_minor": 2
}

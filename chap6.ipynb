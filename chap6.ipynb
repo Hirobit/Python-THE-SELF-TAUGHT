{
 "cells": [
  {
   "cell_type": "markdown",
   "metadata": {},
   "source": [
    "# 94"
   ]
  },
  {
   "cell_type": "code",
   "execution_count": 2,
   "metadata": {},
   "outputs": [
    {
     "name": "stdout",
     "output_type": "stream",
     "text": [
      "a+b+c\n"
     ]
    }
   ],
   "source": [
    "z = \"abc\"\n",
    "sumz = \"+\".join(z)\n",
    "print(sumz)"
   ]
  },
  {
   "cell_type": "code",
   "execution_count": 3,
   "metadata": {},
   "outputs": [
    {
     "name": "stdout",
     "output_type": "stream",
     "text": [
      "abc+def+fhi\n"
     ]
    }
   ],
   "source": [
    "z = [\"abc\",\"def\", \"fhi\"]\n",
    "sumz = \"+\".join(z)\n",
    "print(sumz)"
   ]
  },
  {
   "cell_type": "code",
   "execution_count": 4,
   "metadata": {},
   "outputs": [
    {
     "name": "stdout",
     "output_type": "stream",
     "text": [
      "abc+def+fhi\n"
     ]
    }
   ],
   "source": [
    "z = (\"abc\",\"def\", \"fhi\")\n",
    "sumz = \"+\".join(z)\n",
    "print(sumz)"
   ]
  },
  {
   "cell_type": "markdown",
   "metadata": {},
   "source": [
    "# 95 "
   ]
  },
  {
   "cell_type": "code",
   "execution_count": 6,
   "metadata": {},
   "outputs": [
    {
     "name": "stdout",
     "output_type": "stream",
     "text": [
      "a\n"
     ]
    }
   ],
   "source": [
    "a = \"       a  \"\n",
    "a = a.strip()\n",
    "print(a)"
   ]
  },
  {
   "cell_type": "code",
   "execution_count": 7,
   "metadata": {},
   "outputs": [
    {
     "name": "stdout",
     "output_type": "stream",
     "text": [
      "a     b\n"
     ]
    }
   ],
   "source": [
    "a = \"    a     b        \"\n",
    "a = a.strip()\n",
    "print(a)"
   ]
  },
  {
   "cell_type": "code",
   "execution_count": 8,
   "metadata": {},
   "outputs": [
    {
     "name": "stdout",
     "output_type": "stream",
     "text": [
      "a    　　　　　 b\n"
     ]
    }
   ],
   "source": [
    "a = \"    　　 a    　　　　　 b   　　　　　     \"\n",
    "a = a.strip()\n",
    "print(a)"
   ]
  },
  {
   "cell_type": "code",
   "execution_count": 14,
   "metadata": {},
   "outputs": [
    {
     "name": "stdout",
     "output_type": "stream",
     "text": [
      "not found\n"
     ]
    }
   ],
   "source": [
    "try:\n",
    "    \"animals\".index(\"z\")\n",
    "except:\n",
    "    print(\"not found\")\n",
    "\n",
    "    #なぜエラー文を指定していないのに動くの？else的に動く？"
   ]
  },
  {
   "cell_type": "code",
   "execution_count": 12,
   "metadata": {},
   "outputs": [
    {
     "ename": "ValueError",
     "evalue": "substring not found",
     "output_type": "error",
     "traceback": [
      "\u001b[0;31m---------------------------------------------------------------------------\u001b[0m",
      "\u001b[0;31mValueError\u001b[0m                                Traceback (most recent call last)",
      "\u001b[1;32m/Users/mahiro/Desktop/THE SELF TAUGET Programmer/chap6.ipynb セル 10\u001b[0m line \u001b[0;36m1\n\u001b[0;32m----> <a href='vscode-notebook-cell:/Users/mahiro/Desktop/THE%20SELF%20TAUGET%20Programmer/chap6.ipynb#X12sZmlsZQ%3D%3D?line=0'>1</a>\u001b[0m \u001b[39m\"\u001b[39m\u001b[39manimals\u001b[39m\u001b[39m\"\u001b[39m\u001b[39m.\u001b[39mindex(\u001b[39m\"\u001b[39m\u001b[39mz\u001b[39m\u001b[39m\"\u001b[39m)\n",
      "\u001b[0;31mValueError\u001b[0m: substring not found"
     ]
    }
   ],
   "source": [
    "\"animals\".index(\"z\")"
   ]
  },
  {
   "cell_type": "markdown",
   "metadata": {},
   "source": [
    "# 102 チャレンジ"
   ]
  },
  {
   "cell_type": "code",
   "execution_count": 19,
   "metadata": {},
   "outputs": [
    {
     "name": "stdout",
     "output_type": "stream",
     "text": [
      "カ\n",
      "ミ\n",
      "ュ\n"
     ]
    }
   ],
   "source": [
    "# Q1\n",
    "\n",
    "a = \"カミュ\"\n",
    "\n",
    "print(a[0])\n",
    "print(a[1])\n",
    "print(a[2])\n"
   ]
  },
  {
   "cell_type": "code",
   "execution_count": null,
   "metadata": {},
   "outputs": [],
   "source": [
    "# Q1 answer\n",
    "\n",
    "author = \"Camus\"\n",
    "print(author[0])\n",
    "print(author[1])\n",
    "print(author[2])\n",
    "print(author[3])\n",
    "print(author[4])"
   ]
  },
  {
   "cell_type": "code",
   "execution_count": 23,
   "metadata": {},
   "outputs": [
    {
     "name": "stdout",
     "output_type": "stream",
     "text": [
      "私は昨日日記を書いて自分に送った!\n"
     ]
    }
   ],
   "source": [
    "# Q2\n",
    "#f文字を自ら使い見せつけていく。\n",
    "\n",
    "int1 = input(\"何書いた？\")\n",
    "int2 = input(\"誰に送った？\")\n",
    "\n",
    "re = f\"私は昨日{int1}を書いて{int2}に送った!\"\n",
    "print(re)"
   ]
  },
  {
   "cell_type": "code",
   "execution_count": null,
   "metadata": {},
   "outputs": [],
   "source": [
    "# Q2 answer\n",
    "\n",
    "answer1 = input(\"What did you write yesterday?\")\n",
    "answer2 = input(\"Where did you go yesterday?\")\n",
    "\n",
    "new_string = \"Yesterday I wrote a {}. I sent it to {}.\".format(answer1, answer2)\n",
    "\n",
    "print(new_string)"
   ]
  },
  {
   "cell_type": "code",
   "execution_count": 26,
   "metadata": {},
   "outputs": [
    {
     "name": "stdout",
     "output_type": "stream",
     "text": [
      "Aldous huxley was born in 1894\n"
     ]
    }
   ],
   "source": [
    "# Q3\n",
    "\n",
    "print(\"aldous Huxley was born in 1894\".capitalize())\n"
   ]
  },
  {
   "cell_type": "code",
   "execution_count": 69,
   "metadata": {},
   "outputs": [
    {
     "name": "stdout",
     "output_type": "stream",
     "text": [
      "Aldous Huxley Was Born In 1894. He Was Born In The United Kingdom.\n"
     ]
    }
   ],
   "source": [
    "# Q3 answer\n",
    "\n",
    "x = \"aldous huxley was born in 1894. he was born in the United Kingdom.\".title()\n",
    "print(x)"
   ]
  },
  {
   "cell_type": "code",
   "execution_count": 27,
   "metadata": {},
   "outputs": [
    {
     "data": {
      "text/plain": [
       "['どこで？', '誰が？', 'いつ？']"
      ]
     },
     "execution_count": 27,
     "metadata": {},
     "output_type": "execute_result"
    }
   ],
   "source": [
    "# Q4\n",
    "\n",
    "\"どこで？ 誰が？ いつ？\".split(\" \")"
   ]
  },
  {
   "cell_type": "code",
   "execution_count": 70,
   "metadata": {},
   "outputs": [
    {
     "name": "stdout",
     "output_type": "stream",
     "text": [
      "['Where now', ' Who now', ' When now', '']\n"
     ]
    }
   ],
   "source": [
    "# Q4 answer\n",
    "\n",
    "lst = \"Where now? Who now? When now?\".split(\"?\")\n",
    "print(lst)"
   ]
  },
  {
   "cell_type": "code",
   "execution_count": 49,
   "metadata": {},
   "outputs": [
    {
     "name": "stdout",
     "output_type": "stream",
     "text": [
      ".\n",
      "The fox jumped over the fence.\n"
     ]
    }
   ],
   "source": [
    "\n",
    "# Q5\n",
    "\n",
    "f = [\"The\", \"fox\", \"jumped\", \"over\", \"the\", \"fence\", \".\"]\n",
    "ff = \" \".join(f)\n",
    "\n",
    "fff = ff[:29]+ff[-1]\n",
    "\n",
    "print(fff)"
   ]
  },
  {
   "cell_type": "code",
   "execution_count": 71,
   "metadata": {},
   "outputs": [
    {
     "name": "stdout",
     "output_type": "stream",
     "text": [
      "The fox jumped over the fence.\n"
     ]
    }
   ],
   "source": [
    "# Q5 answer\n",
    "\n",
    "fox = [\"The\", \"fox\", \"jumped\", \"over\", \"the\", \"fence\", \".\"]\n",
    "fox = \" \".join(fox)\n",
    "fox = fox[0: -2] + \".\"\n",
    "print(fox)"
   ]
  },
  {
   "cell_type": "code",
   "execution_count": 50,
   "metadata": {},
   "outputs": [
    {
     "name": "stdout",
     "output_type": "stream",
     "text": [
      "A $creaming come$ acro$$ the $ky.\n"
     ]
    }
   ],
   "source": [
    "# Q6\n",
    "\n",
    "s = \"A screaming comes across the sky.\"\n",
    "ss = s.replace(\"s\", \"$\")\n",
    "print(ss)"
   ]
  },
  {
   "cell_type": "code",
   "execution_count": null,
   "metadata": {},
   "outputs": [],
   "source": [
    "# Q6 answer\n",
    "\n",
    "sentence = \"A screaming comes across the sky.\"\n",
    "sentence = sentence.replace(\"s\", \"$\")\n",
    "print(sentence)"
   ]
  },
  {
   "cell_type": "code",
   "execution_count": 52,
   "metadata": {},
   "outputs": [
    {
     "data": {
      "text/plain": [
       "2"
      ]
     },
     "execution_count": 52,
     "metadata": {},
     "output_type": "execute_result"
    }
   ],
   "source": [
    "# Q7\n",
    "\n",
    "\"Hemingway\".index(\"m\")"
   ]
  },
  {
   "cell_type": "code",
   "execution_count": 72,
   "metadata": {},
   "outputs": [
    {
     "name": "stdout",
     "output_type": "stream",
     "text": [
      "0\n"
     ]
    }
   ],
   "source": [
    "# Q7 answer\n",
    "\n",
    "first_index = \"Hemingway\".index(\"H\")\n",
    "print(first_index)"
   ]
  },
  {
   "cell_type": "code",
   "execution_count": 53,
   "metadata": {},
   "outputs": [
    {
     "data": {
      "text/plain": [
       "'自分が世界を変えられると本気で信じるクレイジーな人こそが、本当に世界を変えるのだ。\"スティーブ・ジョブズ\"'"
      ]
     },
     "execution_count": 53,
     "metadata": {},
     "output_type": "execute_result"
    }
   ],
   "source": [
    "# Q8\n",
    "\n",
    "\"自分が世界を変えられると本気で信じるクレイジーな人こそが、本当に世界を変えるのだ。\\\"スティーブ・ジョブズ\\\"\""
   ]
  },
  {
   "cell_type": "code",
   "execution_count": 73,
   "metadata": {},
   "outputs": [],
   "source": [
    "# Q8 answer\n",
    "\n",
    "quote1 = \"'Drink up,' said Ford, 'you've got three pints to get through.'\"\n",
    "quote2 = \"'I forgot,' Lennie said softly. 'I tried not to forget. Honest to God I did, George.'\"\n",
    "quote3 = \"'Yes,' I said, 'I have a reason,' and added very softly, 'My God.'\""
   ]
  },
  {
   "cell_type": "code",
   "execution_count": 58,
   "metadata": {},
   "outputs": [
    {
     "name": "stdout",
     "output_type": "stream",
     "text": [
      "three three three \n",
      "three three three \n"
     ]
    }
   ],
   "source": [
    "# Q9\n",
    "\n",
    "a = \"three \"\n",
    "print(a+ a+ a)\n",
    "\n",
    "print(a*3)"
   ]
  },
  {
   "cell_type": "code",
   "execution_count": 74,
   "metadata": {},
   "outputs": [
    {
     "name": "stdout",
     "output_type": "stream",
     "text": [
      "threethreethree\n",
      "threethreethree\n"
     ]
    }
   ],
   "source": [
    "# Q9 answer\n",
    "\n",
    "concat = \"three\" + \"three\" + \"three\"\n",
    "mult = \"three\" * 3\n",
    "\n",
    "print(concat)\n",
    "print(mult)"
   ]
  },
  {
   "cell_type": "code",
   "execution_count": 68,
   "metadata": {},
   "outputs": [
    {
     "name": "stdout",
     "output_type": "stream",
     "text": [
      "4月の晴れた寒い日\n"
     ]
    }
   ],
   "source": [
    "# Q10\n",
    "\n",
    "y = \"4月の晴れた寒い日で、時計がどれも十三時を打っていた。\"\n",
    "yy = y[0:9]\n",
    "print(yy)"
   ]
  },
  {
   "cell_type": "code",
   "execution_count": 75,
   "metadata": {},
   "outputs": [
    {
     "name": "stdout",
     "output_type": "stream",
     "text": [
      "It was a bright cold day in April\n"
     ]
    }
   ],
   "source": [
    "# Q10 answer\n",
    "\n",
    "sentence = \"It was a bright cold day in April, and the clocks were striking thirteen.\"\n",
    "slce = sentence[0:33]\n",
    "print(slce)"
   ]
  },
  {
   "cell_type": "markdown",
   "metadata": {},
   "source": [
    "# 答えが英語版しかなく、問題も若干違うと思われるがほぼok"
   ]
  },
  {
   "cell_type": "markdown",
   "metadata": {},
   "source": []
  }
 ],
 "metadata": {
  "kernelspec": {
   "display_name": "base",
   "language": "python",
   "name": "python3"
  },
  "language_info": {
   "codemirror_mode": {
    "name": "ipython",
    "version": 3
   },
   "file_extension": ".py",
   "mimetype": "text/x-python",
   "name": "python",
   "nbconvert_exporter": "python",
   "pygments_lexer": "ipython3",
   "version": "3.11.3"
  }
 },
 "nbformat": 4,
 "nbformat_minor": 2
}

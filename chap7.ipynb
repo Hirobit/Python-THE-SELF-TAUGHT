{
 "cells": [
  {
   "cell_type": "code",
   "execution_count": null,
   "metadata": {},
   "outputs": [],
   "source": [
    "peole = {\"りんご\":\"apple\",\n",
    "         \"オレンジ\":\"orenge\",\n",
    "         \"レモン\":\"lemon\"}\n",
    "\n",
    "for frutis in peole:\n",
    "    print(frutis)"
   ]
  },
  {
   "cell_type": "markdown",
   "metadata": {},
   "source": [
    "# 116 チャレンジ"
   ]
  },
  {
   "cell_type": "code",
   "execution_count": 2,
   "metadata": {},
   "outputs": [
    {
     "name": "stdout",
     "output_type": "stream",
     "text": [
      "ウォーキング・デッド\n",
      "アントラージュ\n",
      "ザ・ソプラノズ\n",
      "ヴァンパイア・ダイアリーズ\n"
     ]
    }
   ],
   "source": [
    "# Q1\n",
    "\n",
    "m = [\"ウォーキング・デッド\",\"アントラージュ\",\"ザ・ソプラノズ\",\"ヴァンパイア・ダイアリーズ\"]\n",
    "for i in m:\n",
    "    print(i)"
   ]
  },
  {
   "cell_type": "code",
   "execution_count": 5,
   "metadata": {},
   "outputs": [
    {
     "name": "stdout",
     "output_type": "stream",
     "text": [
      "The Walking Dead\n",
      "Entourage\n",
      "The Sopranos\n",
      "The Vampire Diaries\n"
     ]
    }
   ],
   "source": [
    "# Q1 answer 自分のコード正解です\n",
    "\n",
    "shows = [\"The Walking Dead\", \"Entourage\", \"The Sopranos\", \"The Vampire Diaries\"]\n",
    "for show in shows:\n",
    "    print(show)"
   ]
  },
  {
   "cell_type": "code",
   "execution_count": 3,
   "metadata": {},
   "outputs": [
    {
     "name": "stdout",
     "output_type": "stream",
     "text": [
      "25\n",
      "26\n",
      "27\n",
      "28\n",
      "29\n",
      "30\n",
      "31\n",
      "32\n",
      "33\n",
      "34\n",
      "35\n",
      "36\n",
      "37\n",
      "38\n",
      "39\n",
      "40\n",
      "41\n",
      "42\n",
      "43\n",
      "44\n",
      "45\n",
      "46\n",
      "47\n",
      "48\n",
      "49\n",
      "50\n"
     ]
    }
   ],
   "source": [
    "# Q2\n",
    "\n",
    "for i in range(25, 51):\n",
    "    print(i)"
   ]
  },
  {
   "cell_type": "code",
   "execution_count": null,
   "metadata": {},
   "outputs": [],
   "source": [
    "# Q2 answer 自分のコードドンピシャ正解です\n",
    "\n",
    "for i in range(25,51):\n",
    "    print(i)"
   ]
  },
  {
   "cell_type": "code",
   "execution_count": 4,
   "metadata": {},
   "outputs": [
    {
     "name": "stdout",
     "output_type": "stream",
     "text": [
      "要素はウォーキング・デッド、インデックス値は0\n",
      "要素はアントラージュ、インデックス値は1\n",
      "要素はザ・ソプラノズ、インデックス値は2\n",
      "要素はヴァンパイア・ダイアリーズ、インデックス値は3\n"
     ]
    }
   ],
   "source": [
    "# Q3\n",
    "\n",
    "m = [\"ウォーキング・デッド\",\"アントラージュ\",\"ザ・ソプラノズ\",\"ヴァンパイア・ダイアリーズ\"]\n",
    "\n",
    "for i, mo in enumerate(m):\n",
    "    print(f\"要素は{mo}、インデックス値は{i}\")"
   ]
  },
  {
   "cell_type": "code",
   "execution_count": 8,
   "metadata": {},
   "outputs": [
    {
     "name": "stdout",
     "output_type": "stream",
     "text": [
      "0\n",
      "The Walking Dead\n",
      "1\n",
      "Entourage\n",
      "2\n",
      "The Sopranos\n",
      "3\n",
      "The Vampire Diaries\n"
     ]
    }
   ],
   "source": [
    "# Q3 answer 自分のコードをやっていることは同じ、正解です\n",
    "# forループ内のブロックだから、indexとshowが交互にプリント出力させている\n",
    "\n",
    "shows = [\"The Walking Dead\", \"Entourage\", \"The Sopranos\", \"The Vampire Diaries\"]\n",
    "for index, show in enumerate(shows):\n",
    "    print(index)\n",
    "    print(show)"
   ]
  },
  {
   "cell_type": "code",
   "execution_count": 1,
   "metadata": {},
   "outputs": [],
   "source": [
    "# Q4 4度目の挑戦\n",
    "\n",
    "#　q か　goleのリストを入力すると終了\n",
    "gole = [1, 5, 7, 9, 15]\n",
    "\n",
    "int = input(\"数字か q を入力して\") \n",
    "while int != \"q\":\n",
    "    str(int)\n",
    "    if int == gole:\n",
    "        break\n",
    "    else:\n",
    "        int = input(\"もう一度\")\n",
    "\n",
    "# 無理、わかりませんでした。　；＿；"
   ]
  },
  {
   "cell_type": "code",
   "execution_count": 1,
   "metadata": {},
   "outputs": [
    {
     "name": "stdout",
     "output_type": "stream",
     "text": [
      "数字か q をタイプしてくれたら終わる\n",
      "その数字ではないです\n",
      "数字か q をタイプしてくれたら終わる\n",
      "その数字ではないです\n",
      "君の入力した数字は正解です。\n",
      "君の入力した数字は正解です。\n",
      "数字か q をタイプしてくれたら終わる\n",
      "その数字ではないです\n",
      "数字か q をタイプしてくれたら終わる\n",
      "その数字ではないです\n",
      "数字か q をタイプしてくれたら終わる\n",
      "その数字ではないです\n",
      "数字か q をタイプしてくれたら終わる\n",
      "その数字ではないです\n"
     ]
    }
   ],
   "source": [
    "# Q4 answer 数字のリストは自分の指定した数字に変えてる\n",
    "\n",
    "numbers = [1, 5, 7, 9, 15]\n",
    "\n",
    "while True:\n",
    "    answer = input(\"数字か q を入力して\")\n",
    "    if answer == \"q\":\n",
    "        break\n",
    "    try:\n",
    "        answer = int(answer)\n",
    "    except ValueError:\n",
    "        print(\"数字か q をタイプしてくれたら終わる\")\n",
    "    if answer in numbers:\n",
    "        print(\"君の入力した数字は正解です。\")\n",
    "        break\n",
    "    else:\n",
    "        print(\"その数字ではないです\")"
   ]
  },
  {
   "cell_type": "markdown",
   "metadata": {},
   "source": [
    "Q4 answer ifの後のbreakは自分で足した。そうしないとプログラムが終わらないから\n",
    "numbersのリストとインプットさせたデータを照合するのには　”in演算子”　を使うのか！\n",
    "in演算子の結果がTrueなら正解としてbreakさせ、Falseならelseで”その数字ではないとプリントしてループに返す”\n",
    "\n",
    "出口（break）を先にデザインしといて、それ以外はもちろんbreakしないのでループするという考え方でいいのかも\n",
    "そして照合にin演算子を使い、True or Falseで照合するのは思いつかなかった！！"
   ]
  },
  {
   "cell_type": "code",
   "execution_count": 1,
   "metadata": {},
   "outputs": [
    {
     "name": "stdout",
     "output_type": "stream",
     "text": [
      "[72, 8, 264, 664, 171, 19, 627, 1577, 1332, 148, 4884, 12284, 36, 4, 132, 332]\n"
     ]
    }
   ],
   "source": [
    "# Q5\n",
    "\n",
    "list1 = [8, 19, 148, 4]\n",
    "list2 = [9, 1, 33, 83]\n",
    "new = []\n",
    "\n",
    "for i in list1:\n",
    "    for j in list2:\n",
    "        new.append(i * j)\n",
    "\n",
    "print(new)"
   ]
  },
  {
   "cell_type": "code",
   "execution_count": 9,
   "metadata": {},
   "outputs": [
    {
     "name": "stdout",
     "output_type": "stream",
     "text": [
      "[72, 8, 264, 664, 171, 19, 627, 1577, 1332, 148, 4884, 12284, 36, 4, 132, 332]\n"
     ]
    }
   ],
   "source": [
    "# Q5 answer 自分のコードと99.9%ドンピシャ正解です！\n",
    "\n",
    "list1 = [8, 19, 148, 4]\n",
    "list2 = [9, 1, 33, 83]\n",
    "list3 = []\n",
    "\n",
    "for i in list1:\n",
    "    for j in list2:\n",
    "        mult = i * j\n",
    "        list3.append(i * j)\n",
    "\n",
    "print(list3)"
   ]
  },
  {
   "cell_type": "code",
   "execution_count": null,
   "metadata": {},
   "outputs": [],
   "source": []
  }
 ],
 "metadata": {
  "kernelspec": {
   "display_name": "base",
   "language": "python",
   "name": "python3"
  },
  "language_info": {
   "codemirror_mode": {
    "name": "ipython",
    "version": 3
   },
   "file_extension": ".py",
   "mimetype": "text/x-python",
   "name": "python",
   "nbconvert_exporter": "python",
   "pygments_lexer": "ipython3",
   "version": "3.11.3"
  }
 },
 "nbformat": 4,
 "nbformat_minor": 2
}

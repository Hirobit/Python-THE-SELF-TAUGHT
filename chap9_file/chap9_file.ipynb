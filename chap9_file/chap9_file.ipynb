{
 "cells": [
  {
   "cell_type": "markdown",
   "metadata": {},
   "source": [
    "# p124~ 例文　そのまま写し"
   ]
  },
  {
   "cell_type": "code",
   "execution_count": 2,
   "metadata": {},
   "outputs": [
    {
     "data": {
      "text/plain": [
       "'Users/bob/st.txt'"
      ]
     },
     "execution_count": 2,
     "metadata": {},
     "output_type": "execute_result"
    }
   ],
   "source": [
    "#　p125 ファイルに書き出す\n",
    "\n",
    "import os\n",
    "os.path.join(\"Users\", \"bob\", \"st.txt\")"
   ]
  },
  {
   "cell_type": "code",
   "execution_count": 3,
   "metadata": {},
   "outputs": [],
   "source": [
    "# ファイルを開いて、文字列を書き込み、ファイルを閉じる\n",
    "\n",
    "st = open(\"st.txt\", \"w\")\n",
    "st.write(\"Hi,from Python!\")\n",
    "st.close()"
   ]
  },
  {
   "cell_type": "code",
   "execution_count": 8,
   "metadata": {},
   "outputs": [],
   "source": [
    "st = open(\"st.txt\", \"w\", encoding= \"utf-8\")\n",
    "st.write(\"パイソンからこんにちは!\")\n",
    "st.close()\n",
    "\n",
    "#上のコードを実行してからこのセルのコードを実行するとこちらのセルのコードが上書きされてしまう"
   ]
  },
  {
   "cell_type": "code",
   "execution_count": 10,
   "metadata": {},
   "outputs": [],
   "source": [
    "# with文を使って自動で閉じる\n",
    "\n",
    "with open(\"st.txt\", \"w\") as f:\n",
    "    f.write(\"Hello from Python!!\")"
   ]
  },
  {
   "cell_type": "code",
   "execution_count": 11,
   "metadata": {},
   "outputs": [
    {
     "name": "stdout",
     "output_type": "stream",
     "text": [
      "Hello from Python!!\n"
     ]
    }
   ],
   "source": [
    "# 読み込みモードでファイルを開く\n",
    "\n",
    "with open(\"st.txt\", \"r\") as f:   #日本語のような非アスキー文字を含むならエンコーディング追加したほうがいい  with open(\"st.txt\", \"r\", encoding=\"utf-8\") as f:\n",
    "    print(f.read())"
   ]
  },
  {
   "cell_type": "code",
   "execution_count": 14,
   "metadata": {},
   "outputs": [],
   "source": [
    "# csvファイルを作る\n",
    "\n",
    "import csv\n",
    "\n",
    "with open(\"st.csv\", \"w\", newline=\"\") as f:\n",
    "    w = csv.writer(f, delimiter=\",\")\n",
    "    w.writerow([\"one\", \"two\", \"thrre\",\"aaa\",\"bbb\"])\n",
    "    w.writerow([\"four\", \"five\", \"six\"])"
   ]
  },
  {
   "cell_type": "code",
   "execution_count": 15,
   "metadata": {},
   "outputs": [
    {
     "name": "stdout",
     "output_type": "stream",
     "text": [
      "one,two,thrre,aaa,bbb\n",
      "four,five,six\n"
     ]
    }
   ],
   "source": [
    "# csvファイルを読み込む　解説は　p131\n",
    "\n",
    "import csv\n",
    "\n",
    "with open(\"st.csv\", \"r\") as f:\n",
    "    r = csv.reader(f, delimiter=\",\")   # 各データを区切る文字　＝　デリミタ(delimiter)\n",
    "    for row in r:\n",
    "        print(\",\".join(row))"
   ]
  },
  {
   "cell_type": "markdown",
   "metadata": {},
   "source": [
    "# p132 chap9 チャレンジ"
   ]
  },
  {
   "cell_type": "code",
   "execution_count": 17,
   "metadata": {},
   "outputs": [
    {
     "name": "stdout",
     "output_type": "stream",
     "text": [
      "\n",
      "===============================================\n",
      "付属データをお使いになる前にお読みください\n",
      "===============================================\n",
      "\n",
      "●付属データについて\n",
      "付属データには『Python2年生 スクレイピングのしくみ 体験してわかる！会話でまなべる！』（ISBN978-4-7981-6191-4）の本文で解説した1章から5章のサンプルを用意しています。\n",
      "\n",
      "●本書のサンプルの動作環境\n",
      "本書のサンプルは以下の環境で、問題なく動作することを確認しています。\n",
      "\n",
      "OS：macOS\n",
      "OSバージョン：10.14.5（Mojave）\n",
      "CPU：Intel Core i5\n",
      "Pythonバージョン：3.7.3\n",
      "各種ライブラリとバージョン\n",
      "　pip：19.2.1\n",
      "　beautiul soup4 ：4.8.0\n",
      "　pandas：0.24.2\n",
      "　matplotlib：3.1.1\n",
      "　openpyxl：2.6.2\n",
      "　xlrd：1.2.0\n",
      "　xlwt：1.3.0\n",
      "　folium：0.9.1\n",
      "\n",
      "OS：Windows\n",
      "OSバージョン：10 Pro バージョン1809\n",
      "CPU：Intel core i7\n",
      "Pythonバージョン：3.7.3\n",
      "各種ライブラリとバージョン\n",
      "　pip：19.2.1\n",
      "　beautiul soup4 ：4.8.0\n",
      "　pandas：0.24.2\n",
      "　matplotlib：3.1.1\n",
      "　openpyxl：2.6.2\n",
      "　xlrd：1.2.0\n",
      "　xlwt：1.3.0\n",
      "　folium：0.9.1\n",
      "\n",
      "●サンプルデータの一覧\n",
      "　サンプルデータのフォルダとファイル構成は次の通りです。zipファイルを解凍して利用してください。\n",
      "\n",
      "python2nen_sample.zip\n",
      "    +-- Chap1【第1章のサンプルフォルダ】\n",
      "    +-- Chap2【第2章のサンプルフォルダ】\n",
      "    +-- Chap3【第3章のサンプルフォルダ】\n",
      "    +-- Chap4【第4章のサンプルフォルダ】\n",
      "    +-- Chap5【第5章のサンプルフォルダ】\n",
      "    +-- README.txt【本ファイル】\n",
      "\n",
      "●免責事項について\n",
      "・本書に記載されたURLなどは予告なく変更される場合があります。\n",
      "・本書の出版にあたっては正確な記述につとめましたが、著者や出版社などのいずれも、本書の内容に対して何らかの保証をするものではなく、内容やサンプルにもとづくいかなる運用結果に関してもいっさいの責任を負いません。\n",
      "・本書に記載されている会社名、製品名はそれぞれ各社の商標および登録商標です。\n",
      "・本書の内容は、2019年9月執筆時点のものです。。\n",
      "\n",
      "2019年9月　株式会社翔泳社 編集部\n"
     ]
    }
   ],
   "source": [
    "# Q1\n",
    "\n",
    "with open(\"README.txt\", \"r\", encoding=\"utf-8\") as f:\n",
    "    print(f.read())"
   ]
  },
  {
   "cell_type": "code",
   "execution_count": null,
   "metadata": {},
   "outputs": [],
   "source": [
    "# Q1 answer無し"
   ]
  },
  {
   "cell_type": "code",
   "execution_count": 22,
   "metadata": {},
   "outputs": [
    {
     "name": "stdout",
     "output_type": "stream",
     "text": [
      "１６９\n"
     ]
    }
   ],
   "source": [
    "# Q2\n",
    "\n",
    "height = input(\"身長は？\")\n",
    "\n",
    "with open(\"hei.txt\", \"w+\", encoding=\"utf-8\") as f:\n",
    "    f.write(f\"{height}\")\n",
    "    f.seek(0)                      # seekメソッドでカーソルをインデックス０つまり最初にカーソルを移動する命令を記述、この操作をしないとprintした時にカーソルが入力したデータの後ろにあるのでなにもprint表示されない\n",
    "    print(f.read())"
   ]
  },
  {
   "cell_type": "code",
   "execution_count": 32,
   "metadata": {},
   "outputs": [],
   "source": [
    "# Q2 answer 自分のコードはprintさせたかったからseekとprint,readが入っている。　コードは大正解です！！\n",
    "\n",
    "answer = input(\"What is your favorite color?\")\n",
    "with open(\"fav_color.txt\", \"w\") as f:\n",
    "    f.write(answer)"
   ]
  },
  {
   "cell_type": "code",
   "execution_count": 29,
   "metadata": {},
   "outputs": [
    {
     "name": "stdout",
     "output_type": "stream",
     "text": [
      "40\n",
      "['Top Gun', 'Risky Business', 'Minority Report']\n",
      "32\n",
      "['Titanic', 'The Revenant', 'Inception']\n",
      "33\n",
      "['Training Day', 'Man on Fire', 'Flight']\n"
     ]
    }
   ],
   "source": [
    "# Q3\n",
    "\n",
    "movies = [[\"Top Gun\", \"Risky Business\", \"Minority Report\"],\n",
    "         [\"Titanic\", \"The Revenant\", \"Inception\"],\n",
    "         [\"Training Day\", \"Man on Fire\", \"Flight\"]]\n",
    "\n",
    "import csv\n",
    "\n",
    "with open(\"movie.csv\", \"w+\", newline=\"\") as f:\n",
    "    m = csv.writer(f, delimiter=\",\")\n",
    "    for row in movies:\n",
    "        print(m.writerow(row))          #この行でmoviesの要素をrowにforループで入れたデータをファイル(m)に書き込んでいる、ここをprintすると書き込んだデータ\n",
    "        print(row)"
   ]
  },
  {
   "cell_type": "code",
   "execution_count": null,
   "metadata": {},
   "outputs": [],
   "source": [
    "# Q3 answer 自分のコードはimportを最初にすべき。printする為に蛇足があるが、そのほかは正解！！！\n",
    "\n",
    "import csv\n",
    "\n",
    "movies = [[\"Top Gun\", \"Risky Business\", \"Minority Report\"], [\"Titanic\", \"The Revenant\", \"Inception\"], [\"Training Day\", \"Man on Fire\", \"Flight\"]]\n",
    "with open(\"movies.csv\", \"w\") as csvfile:\n",
    "    spamwriter = csv.writer(csvfile, delimiter=\",\")\n",
    "    for movie_list in movies:\n",
    "        spamwriter.writerow(movie_list)"
   ]
  },
  {
   "cell_type": "code",
   "execution_count": 31,
   "metadata": {},
   "outputs": [
    {
     "name": "stdout",
     "output_type": "stream",
     "text": [
      "28\n",
      "['トップガン', 'リスキービジネス', 'マイノリティーレポート']\n",
      "19\n",
      "['タイタニック', '亡霊', 'インセプション']\n",
      "26\n",
      "['トレーニング デイ', 'マイボディーガード', 'フライト']\n"
     ]
    }
   ],
   "source": [
    "# Q4\n",
    "\n",
    "movies = [[\"トップガン\", \"リスキービジネス\", \"マイノリティーレポート\"],\n",
    "         [\"タイタニック\", \"亡霊\", \"インセプション\"],\n",
    "         [\"トレーニング デイ\", \"マイボディーガード\", \"フライト\"]]\n",
    "\n",
    "import csv\n",
    "\n",
    "with open(\"jp_movie.csv\", \"w+\", newline=\"\", encoding=\"utf-8\") as f:\n",
    "    m = csv.writer(f, delimiter=\",\")\n",
    "    for row in movies:\n",
    "        print(m.writerow(row))          #この行でmoviesの要素をrowにforループで入れたデータをファイル(m)に書き込んでいる、ここをprintすると書き込んだデータ\n",
    "        print(row)"
   ]
  },
  {
   "cell_type": "code",
   "execution_count": null,
   "metadata": {},
   "outputs": [],
   "source": [
    "# Q4 answer 解答無しです　”日本語で”ということなのでencodingを使わせたかったの思われる。"
   ]
  }
 ],
 "metadata": {
  "kernelspec": {
   "display_name": "base",
   "language": "python",
   "name": "python3"
  },
  "language_info": {
   "codemirror_mode": {
    "name": "ipython",
    "version": 3
   },
   "file_extension": ".py",
   "mimetype": "text/x-python",
   "name": "python",
   "nbconvert_exporter": "python",
   "pygments_lexer": "ipython3",
   "version": "3.11.3"
  }
 },
 "nbformat": 4,
 "nbformat_minor": 2
}

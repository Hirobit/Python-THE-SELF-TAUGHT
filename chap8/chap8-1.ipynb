{
 "cells": [
  {
   "cell_type": "code",
   "execution_count": 1,
   "metadata": {},
   "outputs": [
    {
     "name": "stdout",
     "output_type": "stream",
     "text": [
      "1.5\n"
     ]
    }
   ],
   "source": [
    "# Q1\n",
    "\n",
    "import statistics\n",
    "\n",
    "nums = [1,1,1,1,1,2,2,2,2,2,]\n",
    "\n",
    "print(statistics.median_grouped(nums))"
   ]
  },
  {
   "cell_type": "code",
   "execution_count": 27,
   "metadata": {},
   "outputs": [
    {
     "name": "stdout",
     "output_type": "stream",
     "text": [
      "11\n"
     ]
    }
   ],
   "source": [
    "# Q1 answer 自分のコードはgrouped dataの中央値、すなわち50パーセンタイルを出す関数を使い結果を表示\n",
    "        #   先生のはデータのlow medianを出す関数を使い、結果を表示。何をやっているか分からないがプログラムの問題としては正解です！！\n",
    "\n",
    "import statistics\n",
    "\n",
    "data = [14, 3, 11, 133, 4]\n",
    "\n",
    "result = statistics.median_low(data)\n",
    "\n",
    "print(result)"
   ]
  },
  {
   "cell_type": "code",
   "execution_count": 25,
   "metadata": {},
   "outputs": [
    {
     "ename": "AttributeError",
     "evalue": "module 'cubed' has no attribute 'cubed3'",
     "output_type": "error",
     "traceback": [
      "\u001b[0;31m---------------------------------------------------------------------------\u001b[0m",
      "\u001b[0;31mAttributeError\u001b[0m                            Traceback (most recent call last)",
      "\u001b[1;32m/Users/mahiro/Desktop/THE SELF TAUGET Programmer/chap8/chap8-1.ipynb セル 2\u001b[0m line \u001b[0;36m6\n\u001b[1;32m      <a href='vscode-notebook-cell:/Users/mahiro/Desktop/THE%20SELF%20TAUGET%20Programmer/chap8/chap8-1.ipynb#W4sZmlsZQ%3D%3D?line=0'>1</a>\u001b[0m \u001b[39m# Q2 .ipynbだと関数cubed3が見つからない\u001b[39;00m\n\u001b[1;32m      <a href='vscode-notebook-cell:/Users/mahiro/Desktop/THE%20SELF%20TAUGET%20Programmer/chap8/chap8-1.ipynb#W4sZmlsZQ%3D%3D?line=1'>2</a>\u001b[0m \u001b[39m#   chap8-2.pyファイルだと普通にインポートして関数使える\u001b[39;00m\n\u001b[1;32m      <a href='vscode-notebook-cell:/Users/mahiro/Desktop/THE%20SELF%20TAUGET%20Programmer/chap8/chap8-1.ipynb#W4sZmlsZQ%3D%3D?line=3'>4</a>\u001b[0m \u001b[39mimport\u001b[39;00m \u001b[39mcubed\u001b[39;00m\n\u001b[0;32m----> <a href='vscode-notebook-cell:/Users/mahiro/Desktop/THE%20SELF%20TAUGET%20Programmer/chap8/chap8-1.ipynb#W4sZmlsZQ%3D%3D?line=5'>6</a>\u001b[0m \u001b[39mprint\u001b[39m(cubed\u001b[39m.\u001b[39mcubed3(\u001b[39m3\u001b[39m))\n",
      "\u001b[0;31mAttributeError\u001b[0m: module 'cubed' has no attribute 'cubed3'"
     ]
    }
   ],
   "source": [
    "# Q2 .ipynbだと関数cubed3が見つからない\n",
    "#   chap8-2.pyファイルだと普通にインポートして関数使える\n",
    "\n",
    "import cubed\n",
    "\n",
    "print(cubed.cubed3(3))\n",
    "\n"
   ]
  },
  {
   "cell_type": "code",
   "execution_count": 28,
   "metadata": {},
   "outputs": [
    {
     "ename": "AttributeError",
     "evalue": "module 'cubed' has no attribute 'cube_it'",
     "output_type": "error",
     "traceback": [
      "\u001b[0;31m---------------------------------------------------------------------------\u001b[0m",
      "\u001b[0;31mAttributeError\u001b[0m                            Traceback (most recent call last)",
      "\u001b[1;32m/Users/mahiro/Desktop/THE SELF TAUGET Programmer/chap8/chap8-1.ipynb セル 4\u001b[0m line \u001b[0;36m1\n\u001b[1;32m      <a href='vscode-notebook-cell:/Users/mahiro/Desktop/THE%20SELF%20TAUGET%20Programmer/chap8/chap8-1.ipynb#X10sZmlsZQ%3D%3D?line=7'>8</a>\u001b[0m \u001b[39m#呼び出して使うコード\u001b[39;00m\n\u001b[1;32m      <a href='vscode-notebook-cell:/Users/mahiro/Desktop/THE%20SELF%20TAUGET%20Programmer/chap8/chap8-1.ipynb#X10sZmlsZQ%3D%3D?line=8'>9</a>\u001b[0m \u001b[39mimport\u001b[39;00m \u001b[39mcubed\u001b[39;00m\n\u001b[0;32m---> <a href='vscode-notebook-cell:/Users/mahiro/Desktop/THE%20SELF%20TAUGET%20Programmer/chap8/chap8-1.ipynb#X10sZmlsZQ%3D%3D?line=10'>11</a>\u001b[0m result \u001b[39m=\u001b[39m cubed\u001b[39m.\u001b[39mcube_it(\u001b[39m3\u001b[39m)\n\u001b[1;32m     <a href='vscode-notebook-cell:/Users/mahiro/Desktop/THE%20SELF%20TAUGET%20Programmer/chap8/chap8-1.ipynb#X10sZmlsZQ%3D%3D?line=11'>12</a>\u001b[0m \u001b[39mprint\u001b[39m(result)\n",
      "\u001b[0;31mAttributeError\u001b[0m: module 'cubed' has no attribute 'cube_it'"
     ]
    }
   ],
   "source": [
    "# Q3 answer　自分のコードと99.9%ドンピシャ正解！、、、.ipynbファイルだとなぜ正常に動作しないかは迷宮入りです。。。\n",
    "\n",
    "#関数作るファイルのコード　、ファイル名(モジュール名)は、cubed.py\n",
    "def cube_it(x):\n",
    "    return x ** 3\n",
    "\n",
    "\n",
    "#呼び出して使うコード\n",
    "import cubed\n",
    "\n",
    "result = cubed.cube_it(3)\n",
    "print(result)"
   ]
  },
  {
   "cell_type": "code",
   "execution_count": null,
   "metadata": {},
   "outputs": [],
   "source": []
  }
 ],
 "metadata": {
  "kernelspec": {
   "display_name": "base",
   "language": "python",
   "name": "python3"
  },
  "language_info": {
   "codemirror_mode": {
    "name": "ipython",
    "version": 3
   },
   "file_extension": ".py",
   "mimetype": "text/x-python",
   "name": "python",
   "nbconvert_exporter": "python",
   "pygments_lexer": "ipython3",
   "version": "3.11.3"
  }
 },
 "nbformat": 4,
 "nbformat_minor": 2
}
